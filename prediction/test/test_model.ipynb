{
 "metadata": {
  "language_info": {
   "codemirror_mode": {
    "name": "ipython",
    "version": 3
   },
   "file_extension": ".py",
   "mimetype": "text/x-python",
   "name": "python",
   "nbconvert_exporter": "python",
   "pygments_lexer": "ipython3",
   "version": "3.7.6"
  },
  "orig_nbformat": 2,
  "kernelspec": {
   "name": "python37664bitbasecondac1913ba25f064001a9901b6f809f6a59",
   "display_name": "Python 3.7.6 64-bit ('base': conda)",
   "language": "python"
  }
 },
 "nbformat": 4,
 "nbformat_minor": 2,
 "cells": [
  {
   "source": [
    "# Teste de modelo para o Dataset"
   ],
   "cell_type": "markdown",
   "metadata": {}
  },
  {
   "source": [
    "## Importações"
   ],
   "cell_type": "markdown",
   "metadata": {}
  },
  {
   "cell_type": "code",
   "execution_count": 1,
   "metadata": {},
   "outputs": [],
   "source": [
    "import os \n",
    "import numpy as np\n",
    "from sklearn.model_selection import train_test_split\n",
    "from sklearn.preprocessing import LabelEncoder\n",
    "from sklearn.neighbors import KNeighborsClassifier\n",
    "from sklearn.naive_bayes import GaussianNB\n",
    "import pandas as pd\n",
    "from sklearn.metrics import confusion_matrix, accuracy_score"
   ]
  },
  {
   "cell_type": "code",
   "execution_count": 23,
   "metadata": {},
   "outputs": [
    {
     "output_type": "execute_result",
     "data": {
      "text/plain": [
       "   Unnamed: 0  frame     b x     b y  ITandroids center of mass x  \\\n",
       "0           0      4 -1.5900 -1.3332                   -16.432536   \n",
       "1           1      5 -3.0539 -2.6046                   -16.077636   \n",
       "2           2      6 -4.4260 -3.7900                   -15.788364   \n",
       "3           3      7 -5.6755 -4.8628                   -15.365473   \n",
       "4           4      8 -6.8484 -5.8776                   -14.888573   \n",
       "\n",
       "   ITandroids center of mass y     r1 x    r1 y     r2 x    r2 y  ...    r7 y  \\\n",
       "0                     0.053164 -49.4044  0.0181 -23.1131 -4.7685  ... -9.9501   \n",
       "1                     0.069691 -49.4149  0.0201 -22.3576 -4.6877  ... -9.8315   \n",
       "2                     0.024327 -49.4188  0.0209 -22.0105 -4.6423  ... -9.7910   \n",
       "3                    -0.134573 -49.4204  0.0212 -21.5631 -4.8640  ... -9.7775   \n",
       "4                    -0.359064 -49.4210  0.0213 -21.0248 -5.1935  ... -9.7732   \n",
       "\n",
       "      r8 x     r8 y    r9 x     r9 y    r10 x   r10 y    r11 x   r11 y  \\\n",
       "0 -11.8610  10.6285 -1.1995 -25.0128 -49.4044  0.0181 -49.4044  0.0181   \n",
       "1 -11.1785  10.4110 -1.2265 -24.6273 -49.4149  0.0201 -49.4149  0.0201   \n",
       "2 -10.5076  10.1747 -1.2271 -24.4297 -49.4188  0.0209 -49.4188  0.0209   \n",
       "3  -9.8383   9.9315 -0.8649 -24.4530 -49.4204  0.0212 -49.4204  0.0212   \n",
       "4  -9.2193   9.6592 -0.2685 -24.6017 -49.4210  0.0213 -49.4210  0.0213   \n",
       "\n",
       "   team name  \n",
       "0          0  \n",
       "1          0  \n",
       "2          0  \n",
       "3          0  \n",
       "4          0  \n",
       "\n",
       "[5 rows x 29 columns]"
      ],
      "text/html": "<div>\n<style scoped>\n    .dataframe tbody tr th:only-of-type {\n        vertical-align: middle;\n    }\n\n    .dataframe tbody tr th {\n        vertical-align: top;\n    }\n\n    .dataframe thead th {\n        text-align: right;\n    }\n</style>\n<table border=\"1\" class=\"dataframe\">\n  <thead>\n    <tr style=\"text-align: right;\">\n      <th></th>\n      <th>Unnamed: 0</th>\n      <th>frame</th>\n      <th>b x</th>\n      <th>b y</th>\n      <th>ITandroids center of mass x</th>\n      <th>ITandroids center of mass y</th>\n      <th>r1 x</th>\n      <th>r1 y</th>\n      <th>r2 x</th>\n      <th>r2 y</th>\n      <th>...</th>\n      <th>r7 y</th>\n      <th>r8 x</th>\n      <th>r8 y</th>\n      <th>r9 x</th>\n      <th>r9 y</th>\n      <th>r10 x</th>\n      <th>r10 y</th>\n      <th>r11 x</th>\n      <th>r11 y</th>\n      <th>team name</th>\n    </tr>\n  </thead>\n  <tbody>\n    <tr>\n      <th>0</th>\n      <td>0</td>\n      <td>4</td>\n      <td>-1.5900</td>\n      <td>-1.3332</td>\n      <td>-16.432536</td>\n      <td>0.053164</td>\n      <td>-49.4044</td>\n      <td>0.0181</td>\n      <td>-23.1131</td>\n      <td>-4.7685</td>\n      <td>...</td>\n      <td>-9.9501</td>\n      <td>-11.8610</td>\n      <td>10.6285</td>\n      <td>-1.1995</td>\n      <td>-25.0128</td>\n      <td>-49.4044</td>\n      <td>0.0181</td>\n      <td>-49.4044</td>\n      <td>0.0181</td>\n      <td>0</td>\n    </tr>\n    <tr>\n      <th>1</th>\n      <td>1</td>\n      <td>5</td>\n      <td>-3.0539</td>\n      <td>-2.6046</td>\n      <td>-16.077636</td>\n      <td>0.069691</td>\n      <td>-49.4149</td>\n      <td>0.0201</td>\n      <td>-22.3576</td>\n      <td>-4.6877</td>\n      <td>...</td>\n      <td>-9.8315</td>\n      <td>-11.1785</td>\n      <td>10.4110</td>\n      <td>-1.2265</td>\n      <td>-24.6273</td>\n      <td>-49.4149</td>\n      <td>0.0201</td>\n      <td>-49.4149</td>\n      <td>0.0201</td>\n      <td>0</td>\n    </tr>\n    <tr>\n      <th>2</th>\n      <td>2</td>\n      <td>6</td>\n      <td>-4.4260</td>\n      <td>-3.7900</td>\n      <td>-15.788364</td>\n      <td>0.024327</td>\n      <td>-49.4188</td>\n      <td>0.0209</td>\n      <td>-22.0105</td>\n      <td>-4.6423</td>\n      <td>...</td>\n      <td>-9.7910</td>\n      <td>-10.5076</td>\n      <td>10.1747</td>\n      <td>-1.2271</td>\n      <td>-24.4297</td>\n      <td>-49.4188</td>\n      <td>0.0209</td>\n      <td>-49.4188</td>\n      <td>0.0209</td>\n      <td>0</td>\n    </tr>\n    <tr>\n      <th>3</th>\n      <td>3</td>\n      <td>7</td>\n      <td>-5.6755</td>\n      <td>-4.8628</td>\n      <td>-15.365473</td>\n      <td>-0.134573</td>\n      <td>-49.4204</td>\n      <td>0.0212</td>\n      <td>-21.5631</td>\n      <td>-4.8640</td>\n      <td>...</td>\n      <td>-9.7775</td>\n      <td>-9.8383</td>\n      <td>9.9315</td>\n      <td>-0.8649</td>\n      <td>-24.4530</td>\n      <td>-49.4204</td>\n      <td>0.0212</td>\n      <td>-49.4204</td>\n      <td>0.0212</td>\n      <td>0</td>\n    </tr>\n    <tr>\n      <th>4</th>\n      <td>4</td>\n      <td>8</td>\n      <td>-6.8484</td>\n      <td>-5.8776</td>\n      <td>-14.888573</td>\n      <td>-0.359064</td>\n      <td>-49.4210</td>\n      <td>0.0213</td>\n      <td>-21.0248</td>\n      <td>-5.1935</td>\n      <td>...</td>\n      <td>-9.7732</td>\n      <td>-9.2193</td>\n      <td>9.6592</td>\n      <td>-0.2685</td>\n      <td>-24.6017</td>\n      <td>-49.4210</td>\n      <td>0.0213</td>\n      <td>-49.4210</td>\n      <td>0.0213</td>\n      <td>0</td>\n    </tr>\n  </tbody>\n</table>\n<p>5 rows × 29 columns</p>\n</div>"
     },
     "metadata": {},
     "execution_count": 23
    }
   ],
   "source": [
    "CSV_DIR = os.getcwd() + \"/../datasets/\"\n",
    "dataset = pd.read_csv(CSV_DIR + \"dataset.csv\")\n",
    "columns = dataset.shape[1]\n",
    "dataset.head()\n"
   ]
  },
  {
   "source": [
    "## Formação da matriz"
   ],
   "cell_type": "markdown",
   "metadata": {}
  },
  {
   "cell_type": "code",
   "execution_count": 24,
   "metadata": {},
   "outputs": [
    {
     "output_type": "execute_result",
     "data": {
      "text/plain": [
       "array([[-1.59000000e+00, -1.33320000e+00, -1.64325364e+01, ...,\n",
       "         1.81000000e-02, -4.94044000e+01,  1.81000000e-02],\n",
       "       [-3.05390000e+00, -2.60460000e+00, -1.60776364e+01, ...,\n",
       "         2.01000000e-02, -4.94149000e+01,  2.01000000e-02],\n",
       "       [-4.42600000e+00, -3.79000000e+00, -1.57883636e+01, ...,\n",
       "         2.09000000e-02, -4.94188000e+01,  2.09000000e-02],\n",
       "       ...,\n",
       "       [ 1.47359000e+01,  2.39510000e+01, -1.29104545e+00, ...,\n",
       "         5.97600000e-01, -4.94195000e+01,  5.97600000e-01],\n",
       "       [ 1.54856000e+01,  2.38745000e+01, -8.10718182e-01, ...,\n",
       "         5.97600000e-01, -4.94195000e+01,  5.97600000e-01],\n",
       "       [ 1.61995000e+01,  2.37857000e+01, -2.79863636e-01, ...,\n",
       "         5.97600000e-01, -4.94195000e+01,  5.97600000e-01]])"
      ]
     },
     "metadata": {},
     "execution_count": 24
    }
   ],
   "source": [
    "previsores = dataset.iloc[:, 2:columns-1].values\n",
    "classe = dataset.iloc[:, columns-1].values\n",
    "previsores"
   ]
  },
  {
   "source": [
    "## Transformar o nome dos times em variáveis numéricas"
   ],
   "cell_type": "markdown",
   "metadata": {}
  },
  {
   "cell_type": "code",
   "execution_count": 25,
   "metadata": {},
   "outputs": [
    {
     "output_type": "execute_result",
     "data": {
      "text/plain": [
       "array([0, 1, 2, 3, 4])"
      ]
     },
     "metadata": {},
     "execution_count": 25
    }
   ],
   "source": [
    "labelencoder = LabelEncoder()\n",
    "classe = labelencoder.fit_transform(classe)\n",
    "labelencoder.inverse_transform([0,1,2,3,4])"
   ]
  },
  {
   "cell_type": "code",
   "execution_count": 26,
   "metadata": {},
   "outputs": [],
   "source": [
    "x_treinamento, x_teste, y_treinamento, y_teste = train_test_split(\n",
    "                                                    previsores,\n",
    "                                                    classe,\n",
    "                                                    test_size = 0.3,\n",
    "                                                    random_state = 0\n",
    "                                                    )\n"
   ]
  },
  {
   "source": [
    "## Naive Bayes"
   ],
   "cell_type": "markdown",
   "metadata": {}
  },
  {
   "cell_type": "code",
   "execution_count": 18,
   "metadata": {},
   "outputs": [],
   "source": [
    "naive_bayes = GaussianNB()\n",
    "naive_bayes.fit(x_treinamento, y_treinamento)\n",
    "x_i = x_treinamento[y_treinamento==1, :]"
   ]
  },
  {
   "cell_type": "code",
   "execution_count": 20,
   "metadata": {},
   "outputs": [],
   "source": [
    "previsoes = naive_bayes.predict(x_teste)\n",
    "from sklearn.metrics import classification_report"
   ]
  },
  {
   "cell_type": "code",
   "execution_count": 21,
   "metadata": {},
   "outputs": [
    {
     "output_type": "execute_result",
     "data": {
      "text/plain": [
       "array([[42, 35, 59,  4, 14],\n",
       "       [ 5, 51, 66,  2, 23],\n",
       "       [22, 29, 59,  7, 29],\n",
       "       [21, 40, 45, 19, 16],\n",
       "       [28, 29, 51,  0, 54]])"
      ]
     },
     "metadata": {},
     "execution_count": 21
    }
   ],
   "source": [
    "confusao = confusion_matrix(y_teste, previsoes)\n",
    "confusao"
   ]
  },
  {
   "cell_type": "code",
   "execution_count": 22,
   "metadata": {},
   "outputs": [
    {
     "output_type": "execute_result",
     "data": {
      "text/plain": [
       "0.3"
      ]
     },
     "metadata": {},
     "execution_count": 22
    }
   ],
   "source": [
    "taxa_acerto = accuracy_score(y_teste, previsoes)\n",
    "taxa_erro = 1 - taxa_acerto\n",
    "taxa_acerto"
   ]
  },
  {
   "cell_type": "code",
   "execution_count": 10,
   "metadata": {},
   "outputs": [
    {
     "output_type": "stream",
     "name": "stdout",
     "text": [
      "[[ 1.79565217e+01 -4.71982415e+00 -4.17419082e+00 -4.94511507e+01\n  -4.77275362e-02 -1.75563643e+01 -5.95093961e+00 -1.72758932e+01\n   3.85788406e+00 -1.68141019e+01 -1.70151618e+01 -1.68627188e+01\n   1.52512208e+01 -9.62843430e+00 -6.21684541e-01 -6.93954058e+00\n  -9.85720725e+00 -5.43047150e+00  8.92995749e+00  4.07205556e+00\n  -2.44117821e+01 -4.94511507e+01 -4.77275362e-02 -4.94511507e+01\n  -4.77275362e-02]\n [ 1.86666667e+01 -4.98098213e+00 -3.82185990e-01 -4.95004758e+01\n   1.99170048e-01 -1.75420208e+01 -4.86027246e+00 -1.73114807e+01\n   5.03460918e+00 -1.63624928e+01 -1.59035068e+01 -1.63679435e+01\n   1.62913556e+01 -9.72635749e+00  4.65100966e-01 -6.05356329e+00\n  -9.36662367e+00 -6.54567295e+00  8.89250676e+00  4.06416860e+00\n  -2.34524106e+01 -4.95004758e+01  1.99170048e-01 -4.95004758e+01\n   1.99170048e-01]\n [ 1.86190476e+01 -5.40732143e+00 -2.87692286e+00 -4.94779552e+01\n  -1.31230476e-01 -1.74027676e+01 -5.74707238e+00 -1.74797957e+01\n   4.14021571e+00 -1.67272614e+01 -1.69490081e+01 -1.68755076e+01\n   1.54400562e+01 -1.00553919e+01 -7.17596667e-01 -7.28571429e+00\n  -9.88228238e+00 -6.32029952e+00  9.12812190e+00  3.30407238e+00\n  -2.39829881e+01 -4.94779552e+01 -1.31230476e-01 -4.94779552e+01\n  -1.31230476e-01]\n [ 1.79700000e+01 -4.15813500e+00  8.58806500e-01 -4.94343290e+01\n  -9.20185000e-02 -1.73037340e+01 -4.62733400e+00 -1.72048770e+01\n   5.11590150e+00 -1.64232460e+01 -1.57274300e+01 -1.67628435e+01\n   1.64972125e+01 -9.47538350e+00  2.66733000e-01 -6.07128900e+00\n  -9.25249400e+00 -6.63795400e+00  9.51433450e+00  4.56906850e+00\n  -2.38709670e+01 -4.94343290e+01 -9.20185000e-02 -4.94343290e+01\n  -9.20185000e-02]\n [ 1.87831858e+01 -5.40219823e+00 -2.28811947e-01 -4.94066987e+01\n   3.68008850e-02 -1.73187469e+01 -5.21176858e+00 -1.74256336e+01\n   4.56163717e+00 -1.66824018e+01 -1.64220274e+01 -1.67439261e+01\n   1.59091841e+01 -9.37258982e+00  1.63179204e-01 -6.90172080e+00\n  -9.41942832e+00 -5.56269956e+00  9.21935708e+00  2.94311327e+00\n  -2.40390920e+01 -4.94066987e+01  3.68008850e-02 -4.94066987e+01\n   3.68008850e-02]]\n[[7.01865155e+01 1.99343489e+01 5.94562619e+01 9.75442858e-03\n  1.12430639e-01 8.94048257e+00 7.14483175e+00 9.47427679e+00\n  5.47057510e+00 9.79302557e+00 2.84120088e+00 9.12055953e+00\n  3.24267379e+00 1.18675660e+01 4.04978649e+00 1.20485270e+01\n  2.71292809e+00 1.35634294e+01 3.71590441e+00 8.72188005e+00\n  2.14124222e+00 9.75442858e-03 1.12430639e-01 9.75442858e-03\n  1.12430639e-01]\n [7.62898552e+01 2.20019911e+01 8.72454361e+01 1.69865959e-02\n  3.32642215e-01 1.02085321e+01 5.47477236e+00 9.49229561e+00\n  5.37723208e+00 1.14532517e+01 4.49057574e+00 1.01017612e+01\n  3.85154078e+00 1.11565452e+01 4.69312396e+00 1.35386360e+01\n  3.99482652e+00 1.25650751e+01 4.19830946e+00 1.07485502e+01\n  3.13093706e+00 1.69865959e-02 3.32642215e-01 1.69865959e-02\n  3.32642215e-01]\n [7.87786849e+01 2.81388649e+01 9.26556694e+01 1.86034317e-02\n  2.01071811e-01 1.10663312e+01 8.40617238e+00 9.63224818e+00\n  7.70994552e+00 9.73721781e+00 4.85802877e+00 1.00941279e+01\n  4.23235420e+00 1.45439334e+01 5.93163720e+00 1.16635412e+01\n  3.00395513e+00 1.23091911e+01 3.20883599e+00 7.25324374e+00\n  7.18716498e+00 1.86034317e-02 2.01071811e-01 1.86034317e-02\n  2.01071811e-01]\n [7.36691001e+01 3.05185308e+01 4.96778615e+01 7.02019282e-03\n  1.31459908e-01 1.08775752e+01 5.57397989e+00 1.04316282e+01\n  4.95375589e+00 1.09253175e+01 2.69765025e+00 9.14706890e+00\n  2.19777428e+00 1.64370643e+01 2.38185210e+00 1.27625467e+01\n  2.94868319e+00 1.55936922e+01 2.98473278e+00 1.30289255e+01\n  1.83152616e+00 7.02019282e-03 1.31459908e-01 7.02019282e-03\n  1.31459908e-01]\n [7.28423722e+01 1.94459763e+01 1.35756266e+02 3.18830526e-03\n  5.49667372e-01 9.10027034e+00 9.80047964e+00 8.48651288e+00\n  1.04844578e+01 7.98498334e+00 5.37061777e+00 7.96631012e+00\n  5.67388705e+00 1.00045666e+01 6.73988151e+00 1.14699509e+01\n  3.36515344e+00 1.13741338e+01 4.50733190e+00 3.82506496e+00\n  5.04058219e+00 3.18830526e-03 5.49667372e-01 3.18830526e-03\n  5.49667372e-01]]\n[0.19714286 0.19714286 0.2        0.19047619 0.2152381 ]\n"
     ]
    }
   ],
   "source": [
    "import convert.bayes as bayes\n",
    "cmodel = bayes.Convert(naive_bayes)\n",
    "cmodel.save(file='coach_model.h')"
   ]
  },
  {
   "source": [
    "## K Neighbors "
   ],
   "cell_type": "markdown",
   "metadata": {}
  },
  {
   "cell_type": "code",
   "execution_count": 27,
   "metadata": {},
   "outputs": [
    {
     "output_type": "execute_result",
     "data": {
      "text/plain": [
       "KNeighborsClassifier(algorithm='auto', leaf_size=30, metric='minkowski',\n",
       "                     metric_params=None, n_jobs=None, n_neighbors=1, p=2,\n",
       "                     weights='uniform')"
      ]
     },
     "metadata": {},
     "execution_count": 27
    }
   ],
   "source": [
    "neigh = KNeighborsClassifier(n_neighbors=1)\n",
    "neigh.fit(x_treinamento, y_treinamento)"
   ]
  },
  {
   "cell_type": "code",
   "execution_count": 28,
   "metadata": {},
   "outputs": [
    {
     "output_type": "stream",
     "name": "stdout",
     "text": [
      "(2, 63, 26)\n"
     ]
    }
   ],
   "source": [
    "y_pred = neigh.predict(x_teste)"
   ]
  },
  {
   "cell_type": "code",
   "execution_count": 48,
   "metadata": {},
   "outputs": [],
   "source": [
    "import convert.neighbors as neighbors\n",
    "cmodel = neighbors.Convert(x_treinamento, y_treinamento)\n",
    "cmodel.save(file='coach_model.h')"
   ]
  },
  {
   "cell_type": "code",
   "execution_count": 29,
   "metadata": {},
   "outputs": [
    {
     "output_type": "execute_result",
     "data": {
      "text/plain": [
       "array([[137,   4,   1,   9,   3],\n",
       "       [  2, 131,   5,   7,   2],\n",
       "       [  3,   2, 136,   2,   3],\n",
       "       [  4,   2,   0, 132,   3],\n",
       "       [  8,   6,   4,   4, 140]])"
      ]
     },
     "metadata": {},
     "execution_count": 29
    }
   ],
   "source": [
    "confusao = confusion_matrix(y_teste, y_pred)\n",
    "confusao"
   ]
  },
  {
   "cell_type": "code",
   "execution_count": 30,
   "metadata": {},
   "outputs": [
    {
     "output_type": "execute_result",
     "data": {
      "text/plain": [
       "0.9013333333333333"
      ]
     },
     "metadata": {},
     "execution_count": 30
    }
   ],
   "source": [
    "taxa_acerto = accuracy_score(y_teste, y_pred)\n",
    "taxa_erro = 1 - taxa_acerto\n",
    "taxa_acerto"
   ]
  },
  {
   "cell_type": "code",
   "execution_count": null,
   "metadata": {},
   "outputs": [],
   "source": []
  }
 ]
}